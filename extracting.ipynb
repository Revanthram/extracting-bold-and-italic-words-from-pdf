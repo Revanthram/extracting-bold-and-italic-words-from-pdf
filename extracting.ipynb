{
 "cells": [
  {
   "cell_type": "code",
   "execution_count": 2,
   "metadata": {},
   "outputs": [
    {
     "name": "stdout",
     "output_type": "stream",
     "text": [
      "{'bold_phrases': ['Functions of Distribution Channels', 'reducing the number of transactions ', ' ', 'breaking bulk.', 'creating assortments', 'facilitating functions', 'customer services'], 'italic_phrases': ['reducing the number of transactions ', ' ', 'transportation and storage of goods', 'customer services']}\n"
     ]
    }
   ],
   "source": [
    "#read the .docx file which is converted and then extract the bold and italic words\n",
    "\n",
    "from docx import *\n",
    "\n",
    "document = Document('C:\\\\Users\\\\revanth ram\\\\Desktop\\\\piruby\\\\ExamplePDF.docx')\n",
    "bolds=[]\n",
    "italics=[]\n",
    "for para in document.paragraphs:\n",
    "    for run in para.runs:\n",
    "        if run.italic :\n",
    "            italics.append(run.text)\n",
    "        if run.bold :\n",
    "            bolds.append(run.text)\n",
    "            \n",
    "boltalic_Dict={'bold_phrases':bolds,\n",
    "              'italic_phrases':italics}\n",
    "print(boltalic_Dict)"
   ]
  },
  {
   "cell_type": "code",
   "execution_count": null,
   "metadata": {},
   "outputs": [],
   "source": []
  }
 ],
 "metadata": {
  "kernelspec": {
   "display_name": "Python 3",
   "language": "python",
   "name": "python3"
  },
  "language_info": {
   "codemirror_mode": {
    "name": "ipython",
    "version": 3
   },
   "file_extension": ".py",
   "mimetype": "text/x-python",
   "name": "python",
   "nbconvert_exporter": "python",
   "pygments_lexer": "ipython3",
   "version": "3.7.3"
  }
 },
 "nbformat": 4,
 "nbformat_minor": 2
}
