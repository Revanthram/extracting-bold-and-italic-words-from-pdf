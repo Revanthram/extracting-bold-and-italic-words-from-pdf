{
 "cells": [
  {
   "cell_type": "code",
   "execution_count": null,
   "metadata": {},
   "outputs": [],
   "source": [
    "#converting .pdf to .docx \n",
    "\n",
    "import os\n",
    "import subprocess\n",
    "\n",
    "for top, dirs, files in os.walk('C:\\\\Users\\\\revanth ram\\\\Desktop\\\\piruby\\\\ExamplePDF.pdf'):\n",
    "    for filename in files:\n",
    "        if filename.endswith('.pdf'):\n",
    "            abspath = os.path.join(top, filename)\n",
    "            subprocess.call('lowriter --invisible --convert-to doc \"{}\"'\n",
    "                            .format(abspath), shell=True)\n",
    "        "
   ]
  }
 ],
 "metadata": {
  "kernelspec": {
   "display_name": "Python 3",
   "language": "python",
   "name": "python3"
  },
  "language_info": {
   "codemirror_mode": {
    "name": "ipython",
    "version": 3
   },
   "file_extension": ".py",
   "mimetype": "text/x-python",
   "name": "python",
   "nbconvert_exporter": "python",
   "pygments_lexer": "ipython3",
   "version": "3.7.3"
  }
 },
 "nbformat": 4,
 "nbformat_minor": 2
}
